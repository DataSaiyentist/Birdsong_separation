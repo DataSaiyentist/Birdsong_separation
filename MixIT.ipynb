{
  "cells": [
    {
      "attachments": {},
      "cell_type": "markdown",
      "metadata": {
        "id": "hX8SpYFJz9in"
      },
      "source": [
        "# Unsupervised birdsong separation using Mixture Invariant Training (MixIT)\n",
        "\n",
        "**In this notebook, we will test the MixIT with some personnal recordings thanks to Google Colaboratory.**  \n",
        "**To test yourself this model, please save this notebook in Google Drive (more precisely in the `/Colab Notebooks` folder).**"
      ]
    },
    {
      "cell_type": "markdown",
      "metadata": {
        "id": "t3qkH1p1NU_4"
      },
      "source": [
        "## Setup"
      ]
    },
    {
      "cell_type": "code",
      "execution_count": 4,
      "metadata": {
        "colab": {
          "base_uri": "https://localhost:8080/"
        },
        "id": "YapFReNU3_BC",
        "outputId": "8b5298b8-c671-4835-a63f-c43658b5bbd3"
      },
      "outputs": [
        {
          "name": "stdout",
          "output_type": "stream",
          "text": [
            "Looking in indexes: https://pypi.org/simple, https://us-python.pkg.dev/colab-wheels/public/simple/\n",
            "Requirement already satisfied: AudioConverter in /usr/local/lib/python3.9/dist-packages (1.0.0)\n",
            "Requirement already satisfied: click<8.0.0,>=7.1.2 in /usr/local/lib/python3.9/dist-packages (from AudioConverter) (7.1.2)\n",
            "Requirement already satisfied: colorama<1.0.0,>=0.4.3 in /usr/local/lib/python3.9/dist-packages (from AudioConverter) (0.4.6)\n",
            "Requirement already satisfied: pydub<1.0.0,>=0.24.1 in /usr/local/lib/python3.9/dist-packages (from AudioConverter) (0.25.1)\n",
            "Drive already mounted at /content/drive; to attempt to forcibly remount, call drive.mount(\"/content/drive\", force_remount=True).\n"
          ]
        }
      ],
      "source": [
        "# To convert a directory of audio files from one format to another\n",
        "!pip install --upgrade AudioConverter\n",
        "\n",
        "import tensorflow\n",
        "\n",
        "from google.colab import drive\n",
        "drive.mount('/content/drive')"
      ]
    },
    {
      "cell_type": "code",
      "execution_count": 6,
      "metadata": {
        "colab": {
          "base_uri": "https://localhost:8080/"
        },
        "id": "MnIBot7eGDtO",
        "outputId": "d80c0a9e-ab4f-4005-a9cb-a6e844e757a3"
      },
      "outputs": [
        {
          "name": "stdout",
          "output_type": "stream",
          "text": [
            "/content/Birdsong_separation\n",
            "remote: Enumerating objects: 12, done.\u001b[K\n",
            "remote: Counting objects: 100% (12/12), done.\u001b[K\n",
            "remote: Compressing objects: 100% (6/6), done.\u001b[K\n",
            "remote: Total 9 (delta 2), reused 9 (delta 2), pack-reused 0\u001b[K\n",
            "Unpacking objects: 100% (9/9), 694.52 KiB | 7.39 MiB/s, done.\n",
            "From https://github.com/DataSaiyentist/Birdsong_separation\n",
            "   62e5033..7f73897  main       -> origin/main\n",
            "Updating 62e5033..7f73897\n",
            "Fast-forward\n",
            " README.md                         |   2 \u001b[32m+\u001b[m\u001b[31m-\u001b[m\n",
            " process_wav.py                    | 115 \u001b[32m++++++++++++++++++++++++++++++++++++++\u001b[m\n",
            " save/recordings/recording_001.m4a | Bin \u001b[31m0\u001b[m -> \u001b[32m749942\u001b[m bytes\n",
            " 3 files changed, 116 insertions(+), 1 deletion(-)\n",
            " create mode 100644 process_wav.py\n",
            " create mode 100644 save/recordings/recording_001.m4a\n"
          ]
        }
      ],
      "source": [
        "!git clone https://github.com/DataSaiyentist/Birdsong_separation.git\n",
        "\n",
        "# In case you need to update the Github repository (because you already installed it)\n",
        "# %cd /content/Birdsong_separation\n",
        "# !git pull\n",
        "# %cd ../.."
      ]
    },
    {
      "cell_type": "markdown",
      "metadata": {
        "id": "yl6GcZWnA5tJ"
      },
      "source": [
        "## Preprocessing"
      ]
    },
    {
      "cell_type": "markdown",
      "metadata": {
        "id": "thQkxtZ9A82D"
      },
      "source": [
        "**We need to give wav files as input to the model. So we will convert our recordings :**\n",
        "\n",
        "- **save within the folder `/save/recordings` as many recordings as you want thanks to recording devices (such as your own cellphone)**\n",
        "\n",
        "- **execute the following code then**"
      ]
    },
    {
      "cell_type": "code",
      "execution_count": 12,
      "metadata": {
        "colab": {
          "base_uri": "https://localhost:8080/"
        },
        "id": "7xZeIymCAytk",
        "outputId": "ee05ee8b-03a9-4c2e-c662-0fdcd5803b23"
      },
      "outputs": [
        {
          "name": "stdout",
          "output_type": "stream",
          "text": [
            "\u001b[34m[ INFO    ] Starting conversion of /content/Birdsong_separation/save/recordings/.\u001b[0m\n",
            "\u001b[32m[ SUCCESS ] See /content/drive/My Drive/input for converted audio.\u001b[0m\n"
          ]
        }
      ],
      "source": [
        "!audioconvert convert /content/Birdsong_separation/save/recordings/ /content/drive/My\\ Drive/input/ --output-format .wav"
      ]
    },
    {
      "cell_type": "markdown",
      "metadata": {
        "id": "T0Eq6YuXDZd0"
      },
      "source": [
        "**This will create a new directory named `/input` in your Google Drive with all wav files.**"
      ]
    },
    {
      "cell_type": "markdown",
      "metadata": {
        "id": "dgimakpuAzXp"
      },
      "source": [
        "## Modelization"
      ]
    },
    {
      "cell_type": "markdown",
      "metadata": {
        "id": "RGyiRw0e0fHU"
      },
      "source": [
        "**First, we import pretrained models from Google Cloud (in your Google Drive) :**"
      ]
    },
    {
      "cell_type": "code",
      "execution_count": 13,
      "metadata": {
        "colab": {
          "base_uri": "https://localhost:8080/"
        },
        "id": "0HF3B20jyj0P",
        "outputId": "4dd7539d-f460-4843-c3ef-b971acbb2226"
      },
      "outputs": [
        {
          "name": "stdout",
          "output_type": "stream",
          "text": [
            "Copying gs://gresearch/sound_separation/bird_mixit_model_checkpoints/README...\n",
            "/ [0/8 files][    0.0 B/219.4 MiB]   0% Done                                    \rCopying gs://gresearch/sound_separation/bird_mixit_model_checkpoints/LICENSE...\n",
            "/ [0/8 files][    0.0 B/219.4 MiB]   0% Done                                    \rCopying gs://gresearch/sound_separation/bird_mixit_model_checkpoints/output_sources4/model.ckpt-3223090.index...\n",
            "Copying gs://gresearch/sound_separation/bird_mixit_model_checkpoints/output_sources4/inference.meta...\n",
            "/ [0/8 files][    0.0 B/219.4 MiB]   0% Done                                    \r/ [0/8 files][    0.0 B/219.4 MiB]   0% Done                                    \rCopying gs://gresearch/sound_separation/bird_mixit_model_checkpoints/output_sources4/model.ckpt-3223090.data-00000-of-00001...\n",
            "Copying gs://gresearch/sound_separation/bird_mixit_model_checkpoints/output_sources8/model.ckpt-2178900.data-00000-of-00001...\n",
            "/ [0/8 files][    0.0 B/219.4 MiB]   0% Done                                    \rCopying gs://gresearch/sound_separation/bird_mixit_model_checkpoints/output_sources8/inference.meta...\n",
            "Copying gs://gresearch/sound_separation/bird_mixit_model_checkpoints/output_sources8/model.ckpt-2178900.index...\n",
            "- [8/8 files][219.4 MiB/219.4 MiB] 100% Done                                    \n",
            "Operation completed over 8 objects/219.4 MiB.                                    \n"
          ]
        }
      ],
      "source": [
        "# Importation of model checkpoints (with 4 output sources)\n",
        "!gsutil -m cp -r gs://gresearch/sound_separation/bird_mixit_model_checkpoints /content/drive/My\\ Drive/"
      ]
    },
    {
      "cell_type": "markdown",
      "metadata": {
        "id": "K_NAkNZJ1OWR"
      },
      "source": [
        "**Once we have imported the model, we run the 4-output model on a wav file as follows :**"
      ]
    },
    {
      "cell_type": "code",
      "execution_count": 22,
      "metadata": {
        "colab": {
          "base_uri": "https://localhost:8080/"
        },
        "id": "kBDjprTl1gtv",
        "outputId": "74421195-9aa8-4b12-977f-427800b10c1c"
      },
      "outputs": [
        {
          "name": "stdout",
          "output_type": "stream",
          "text": [
            "2023-04-13 20:49:00.690219: W tensorflow/compiler/tf2tensorrt/utils/py_utils.cc:38] TF-TRT Warning: Could not find TensorRT\n",
            "WARNING:tensorflow:From /usr/local/lib/python3.9/dist-packages/tensorflow/python/compat/v2_compat.py:107: disable_resource_variables (from tensorflow.python.ops.variable_scope) is deprecated and will be removed in a future version.\n",
            "Instructions for updating:\n",
            "non-resource variables are not supported in the long term\n",
            "2023-04-13 20:49:05.144161: W tensorflow/core/common_runtime/graph_constructor.cc:1533] Importing a graph with a lower producer version 837 into an existing graph with producer version 1395. Shape inference will have run different parts of the graph with different producer versions.\n"
          ]
        }
      ],
      "source": [
        "!python3 /content/Birdsong_separation/models/tools/process_wav.py \\\n",
        "--model_dir /content/drive/My\\ Drive/bird_mixit_model_checkpoints/output_sources4 \\\n",
        "--checkpoint /content/drive/My\\ Drive/bird_mixit_model_checkpoints/output_sources4/model.ckpt-3223090 \\\n",
        "--num_sources 4 \\\n",
        "--input /content/drive/My\\ Drive/input/recording_001.wav \\\n",
        "--output /content/drive/My\\ Drive/output/output_001.wav"
      ]
    },
    {
      "attachments": {},
      "cell_type": "markdown",
      "metadata": {
        "id": "qWddZ8GOakdD"
      },
      "source": [
        "**This will return the different separations given by MixIT in the folder `/output` of your Google Drive.**"
      ]
    }
  ],
  "metadata": {
    "colab": {
      "collapsed_sections": [
        "yl6GcZWnA5tJ"
      ],
      "provenance": []
    },
    "kernelspec": {
      "display_name": "Python 3",
      "name": "python3"
    },
    "language_info": {
      "name": "python"
    }
  },
  "nbformat": 4,
  "nbformat_minor": 0
}
